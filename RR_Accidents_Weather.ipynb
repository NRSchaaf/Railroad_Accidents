{
 "cells": [
  {
   "cell_type": "markdown",
   "metadata": {},
   "source": [
    "Query Historical Weather Data<br>\n",
    "visualcrossing.com"
   ]
  },
  {
   "cell_type": "code",
   "execution_count": 1,
   "metadata": {},
   "outputs": [],
   "source": [
    "import pandas as pd\n",
    "import requests\n",
    "import datetime"
   ]
  },
  {
   "cell_type": "code",
   "execution_count": 3,
   "metadata": {},
   "outputs": [
    {
     "name": "stdout",
     "output_type": "stream",
     "text": [
      "Processed and saved weather data for incidents 4500 to 4799 into incident_weather_data_4500_4799.csv\n"
     ]
    }
   ],
   "source": [
    "# Function to get weather data from Visual Crossing API\n",
    "def get_visual_crossing_historical_weather(api_key, location, start_date, end_date):\n",
    "    url = f\"https://weather.visualcrossing.com/VisualCrossingWebServices/rest/services/timeline/{location}/{start_date}/{end_date}\"\n",
    "    \n",
    "    params = {\n",
    "        'unitGroup': 'us',  # 'metric' for Celsius, 'us' for Fahrenheit\n",
    "        'key': api_key,\n",
    "        'include': 'days',  # This includes daily summary\n",
    "    }\n",
    "    \n",
    "    response = requests.get(url, params=params)\n",
    "    \n",
    "    if response.status_code == 200:\n",
    "        data = response.json()\n",
    "        return data\n",
    "    else:\n",
    "        print(f\"Error: {response.status_code}, {response.text}\")\n",
    "        return None\n",
    "\n",
    "# Read the CSV file\n",
    "track_accidents = pd.read_csv('track_accidents_last_10_years.csv')\n",
    "\n",
    "# Initialize your API key\n",
    "api_key = 'AEMGQUX9PJLNHQYP3ZXVLG9VQ'  # Replace with your Visual Crossing API key\n",
    "\n",
    "# Define the range of incidents to process\n",
    "start_index = 4500   # Update this for each day's run\n",
    "stop_index = 4799 # Update this for each day's run\n",
    "\n",
    "# Extract the relevant subset of incidents\n",
    "incident_subset = track_accidents.iloc[start_index:stop_index]\n",
    "\n",
    "# List to hold weather data for each incident\n",
    "weather_data = []\n",
    "\n",
    "# Iterate through each row in the subset\n",
    "for index, row in incident_subset.iterrows():\n",
    "    station = row['station']\n",
    "    stateabbr = row['stateabbr']\n",
    "    incident_date = row['date']\n",
    "\n",
    "    # Convert the incident date to a datetime object\n",
    "    incident_datetime = datetime.datetime.strptime(incident_date, '%Y-%m-%d')\n",
    "    \n",
    "    # Calculate the start and end dates for the weather query\n",
    "    start_date = (incident_datetime - datetime.timedelta(days=1)).strftime('%Y-%m-%d')  # Day prior\n",
    "    end_date = (incident_datetime + datetime.timedelta(days=1)).strftime('%Y-%m-%d')    # Following day\n",
    "    \n",
    "    # Construct the location as 'City,State'\n",
    "    location = f\"{station},{stateabbr}\"\n",
    "    \n",
    "    # Get weather data for the specified date range\n",
    "    weather = get_visual_crossing_historical_weather(api_key, location, start_date, end_date)\n",
    "    \n",
    "    # Store the results if available\n",
    "    if weather:\n",
    "        # Initialize temperatures\n",
    "        prior_temp = actual_temp = following_temp = 'N/A'\n",
    "        \n",
    "        for day in weather['days']:\n",
    "            # Assign temperatures based on the day\n",
    "            if day['datetime'] == (incident_datetime - datetime.timedelta(days=1)).strftime('%Y-%m-%d'):\n",
    "                prior_temp = day.get('temp', 'N/A')\n",
    "            elif day['datetime'] == incident_datetime.strftime('%Y-%m-%d'):\n",
    "                actual_temp = day.get('temp', 'N/A')\n",
    "            elif day['datetime'] == (incident_datetime + datetime.timedelta(days=1)).strftime('%Y-%m-%d'):\n",
    "                following_temp = day.get('temp', 'N/A')\n",
    "\n",
    "        # Append the data along with original incident information\n",
    "        weather_data.append({\n",
    "            **row.to_dict(),  # Add original incident data\n",
    "            'prior_temp': prior_temp,\n",
    "            'actual_temp': actual_temp,\n",
    "            'following_temp': following_temp,\n",
    "        })\n",
    "\n",
    "# Convert the results into a DataFrame for further analysis\n",
    "weather_df = pd.DataFrame(weather_data)\n",
    "\n",
    "# Save to CSV file, including the range in the filename\n",
    "output_filename = f'incident_weather_data_{start_index}_{stop_index}.csv'\n",
    "weather_df.to_csv(output_filename, index=False)\n",
    "\n",
    "print(f\"Processed and saved weather data for incidents {start_index} to {stop_index} into {output_filename}\")"
   ]
  }
 ],
 "metadata": {
  "kernelspec": {
   "display_name": "Python 3",
   "language": "python",
   "name": "python3"
  },
  "language_info": {
   "codemirror_mode": {
    "name": "ipython",
    "version": 3
   },
   "file_extension": ".py",
   "mimetype": "text/x-python",
   "name": "python",
   "nbconvert_exporter": "python",
   "pygments_lexer": "ipython3",
   "version": "3.13.0"
  }
 },
 "nbformat": 4,
 "nbformat_minor": 2
}
