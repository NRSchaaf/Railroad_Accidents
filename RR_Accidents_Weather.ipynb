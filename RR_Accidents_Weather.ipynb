{
 "cells": [
  {
   "cell_type": "markdown",
   "metadata": {},
   "source": [
    "Query Historical Weather Data<br>\n",
    "openweather.com"
   ]
  },
  {
   "cell_type": "code",
   "execution_count": 1,
   "metadata": {},
   "outputs": [],
   "source": [
    "import requests\n",
    "import datetime"
   ]
  },
  {
   "cell_type": "code",
   "execution_count": 4,
   "metadata": {},
   "outputs": [
    {
     "name": "stdout",
     "output_type": "stream",
     "text": [
      "Date: 2023-09-01, Temperature: 22.3°C\n",
      "Date: 2023-09-02, Temperature: 22.3°C\n",
      "Date: 2023-09-03, Temperature: 24.3°C\n",
      "Date: 2023-09-04, Temperature: 26.2°C\n",
      "Date: 2023-09-05, Temperature: 27.3°C\n"
     ]
    }
   ],
   "source": [
    "def get_visual_crossing_historical_weather(api_key, location, start_date, end_date):\n",
    "    url = f\"https://weather.visualcrossing.com/VisualCrossingWebServices/rest/services/timeline/{location}/{start_date}/{end_date}\"\n",
    "    \n",
    "    params = {\n",
    "        'unitGroup': 'metric',  # 'metric' for Celsius, 'us' for Fahrenheit\n",
    "        'key': api_key,\n",
    "        'include': 'days',  # This includes daily summary\n",
    "    }\n",
    "    \n",
    "    response = requests.get(url, params=params)\n",
    "    \n",
    "    if response.status_code == 200:\n",
    "        data = response.json()\n",
    "        return data\n",
    "    else:\n",
    "        print(f\"Error: {response.status_code}, {response.text}\")\n",
    "        return None\n",
    "\n",
    "# Example usage\n",
    "api_key = 'AEMGQUX9PJLNHQYP3ZXVLG9VQ'  # Replace with your Visual Crossing API key\n",
    "location = 'Charlotte,NC'  # City, State or city/country\n",
    "start_date = '2023-09-01'  # Start date in YYYY-MM-DD\n",
    "end_date = '2023-09-05'  # End date in YYYY-MM-DD\n",
    "\n",
    "historical_weather = get_visual_crossing_historical_weather(api_key, location, start_date, end_date)\n",
    "\n",
    "if historical_weather:\n",
    "    for day in historical_weather['days']:\n",
    "        print(f\"Date: {day['datetime']}, Temperature: {day['temp']}°C\")\n"
   ]
  }
 ],
 "metadata": {
  "kernelspec": {
   "display_name": "Python 3",
   "language": "python",
   "name": "python3"
  },
  "language_info": {
   "codemirror_mode": {
    "name": "ipython",
    "version": 3
   },
   "file_extension": ".py",
   "mimetype": "text/x-python",
   "name": "python",
   "nbconvert_exporter": "python",
   "pygments_lexer": "ipython3",
   "version": "3.12.2"
  }
 },
 "nbformat": 4,
 "nbformat_minor": 2
}
