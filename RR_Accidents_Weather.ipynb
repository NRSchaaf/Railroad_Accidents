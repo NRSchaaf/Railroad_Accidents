{
 "cells": [
  {
   "cell_type": "markdown",
   "metadata": {},
   "source": [
    "Query Historical Weather Data<br>\n",
    "openweather.com"
   ]
  },
  {
   "cell_type": "code",
   "execution_count": 1,
   "metadata": {},
   "outputs": [],
   "source": [
    "import requests\n",
    "import datetime"
   ]
  },
  {
   "cell_type": "code",
   "execution_count": 2,
   "metadata": {},
   "outputs": [
    {
     "name": "stdout",
     "output_type": "stream",
     "text": [
      "Error fetching data: 401, {\"cod\":401, \"message\": \"Invalid API key. Please see https://openweathermap.org/faq#error401 for more info.\"}\n",
      "Error fetching data: 401, {\"cod\":401, \"message\": \"Invalid API key. Please see https://openweathermap.org/faq#error401 for more info.\"}\n"
     ]
    }
   ],
   "source": [
    "def get_historical_weather(api_key, location, start_date, end_date):\n",
    "    # Convert date to timestamp\n",
    "    start_timestamp = int(datetime.datetime.strptime(start_date, \"%Y-%m-%d\").timestamp())\n",
    "    end_timestamp = int(datetime.datetime.strptime(end_date, \"%Y-%m-%d\").timestamp())\n",
    "    \n",
    "    url = f\"http://api.openweathermap.org/data/2.5/onecall/timemachine\"\n",
    "    \n",
    "    # List to store weather data\n",
    "    weather_data = []\n",
    "\n",
    "    # Loop through the date range\n",
    "    for timestamp in range(start_timestamp, end_timestamp, 86400):  # 86400 seconds in a day\n",
    "        params = {\n",
    "            'lat': location['lat'],\n",
    "            'lon': location['lon'],\n",
    "            'dt': timestamp,\n",
    "            'appid': api_key,\n",
    "            'units': 'metric'  # or 'imperial' for Fahrenheit\n",
    "        }\n",
    "        response = requests.get(url, params=params)\n",
    "        if response.status_code == 200:\n",
    "            data = response.json()\n",
    "            weather_data.append(data)\n",
    "        else:\n",
    "            print(f\"Error fetching data: {response.status_code}, {response.text}\")\n",
    "\n",
    "    return weather_data\n",
    "\n",
    "# Example usage\n",
    "api_key = 'dc7ead2ac2206535b47f3a54c03f8cba'  # Replace with your OpenWeatherMap API key\n",
    "location = {'lat': 44.05739, 'lon': -123.107}  # Example: Charlotte, NC\n",
    "start_date = '2022-10-17'\n",
    "end_date = '2022-10-19'\n",
    "\n",
    "historical_weather = get_historical_weather(api_key, location, start_date, end_date)\n",
    "\n",
    "# Print the results\n",
    "for day_data in historical_weather:\n",
    "    print(day_data)\n",
    "\n",
    "# Print the results\n",
    "for day_data in historical_weather:\n",
    "    print(day_data)"
   ]
  }
 ],
 "metadata": {
  "kernelspec": {
   "display_name": "Python 3",
   "language": "python",
   "name": "python3"
  },
  "language_info": {
   "codemirror_mode": {
    "name": "ipython",
    "version": 3
   },
   "file_extension": ".py",
   "mimetype": "text/x-python",
   "name": "python",
   "nbconvert_exporter": "python",
   "pygments_lexer": "ipython3",
   "version": "3.12.2"
  }
 },
 "nbformat": 4,
 "nbformat_minor": 2
}
