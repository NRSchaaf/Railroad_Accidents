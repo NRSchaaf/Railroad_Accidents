{
 "cells": [
  {
   "cell_type": "markdown",
   "metadata": {},
   "source": [
    "# Forecasting Railroad Track Failures Due to Extreme Temperature Flucuations"
   ]
  },
  {
   "cell_type": "markdown",
   "metadata": {},
   "source": [
    "## Project Definition & Objectives"
   ]
  },
  {
   "cell_type": "markdown",
   "metadata": {},
   "source": [
    "### Objective/Thesis\n",
    "<p>The objective of this project is to develop a machine learning model that helps to predict potential derailment locations specifically caused by track failures due to the result of extreme temperatures fluctuations. By integrating national weather forecasts with historical derailment and track data, the model will identify high-risk areas where derailments are most likely to occur based off the weather forecast. This analysis aims to enable predictive maintenance strategies, focusing on increasing track inspections and repairs during and immediately after periods of extreme weather conditions to mitigate derailment risks.</p>"
   ]
  },
  {
   "cell_type": "markdown",
   "metadata": {},
   "source": [
    "### Scope\n",
    "<ul>\n",
    "    <li><strong>Data Collection</strong>: Gathering historical data on derailments, environmental factors (temperature fluctuations), track conditions, and weather forecasts.</li>\n",
    "    <li><strong>Model Development</strong>: Building and validating a machine learning model capable of predicting derailment locations based on extreme weather patterns. [Possible options: Logistic Regression, Decision Trees, Random Forest, Gradient Boosting, Neural Networks.]</li>\n",
    "    <li><strong>Geospatial Analysis</strong>: Applying geospatial methods to identify high-risk regions for derailments due to wide gauge.</li>\n",
    "    <li><strong>Real-Time Forecast Integration</strong>: Integrating national weather forecasts to provide real-time predictions of potential derailment locations.</li>\n",
    "    <li><strong>Actionable Insights</strong>: Recommending areas for increased track maintenance and inspection based on predictions, with a focus on preventing accidents caused by wide gauge in extreme weather conditions.</li>\n",
    "</ul>"
   ]
  },
  {
   "cell_type": "markdown",
   "metadata": {},
   "source": [
    "### Significance\n",
    "<p>Track failures are the leading cause of non-reportable derailments, with over 12,000 reportable events recorded, according to the Federal Railroad Administration (FRA). As climate change contributes to increasingly unpredictable and extreme weather patterns, the risk of derailments due to wide gauge is likely to rise. This project is significant because it will provide a data-driven approach to mitigating these risks. By predicting where derailments are likely to occur, rail companies can proactively focus maintenance and inspection efforts, reducing the likelihood of accidents, protecting human lives, and preserving infrastructure.</p>"
   ]
  },
  {
   "cell_type": "markdown",
   "metadata": {},
   "source": [
    "## Data Preprocessing"
   ]
  },
  {
   "cell_type": "markdown",
   "metadata": {},
   "source": [
    "### Import"
   ]
  },
  {
   "cell_type": "code",
   "execution_count": 1,
   "metadata": {},
   "outputs": [],
   "source": [
    "import requests\n",
    "import pandas as pd"
   ]
  },
  {
   "cell_type": "code",
   "execution_count": 4,
   "metadata": {},
   "outputs": [
    {
     "name": "stdout",
     "output_type": "stream",
     "text": [
      "Total records retrieved: 220542\n",
      "  reportingrailroadcode reportingrailroadname  year accidentnumber  \\\n",
      "0                    CO              COLORADO  1977         AWV801   \n",
      "1                    CO              COLORADO  1976         AWV021   \n",
      "2                    CO              COLORADO  1976         ATC101   \n",
      "3                   MRL     Montana Rail Link  2010        2010066   \n",
      "4                  BNSF  BNSF Railway Company  1998      MS1198107   \n",
      "\n",
      "                                                 url accidentyear  \\\n",
      "0  {'url': 'https://safetydata.fra.dot.gov/Office...           77   \n",
      "1  {'url': 'https://safetydata.fra.dot.gov/Office...           76   \n",
      "2  {'url': 'https://safetydata.fra.dot.gov/Office...           76   \n",
      "3  {'url': 'https://safetydata.fra.dot.gov/Office...           10   \n",
      "4  {'url': 'https://safetydata.fra.dot.gov/Office...           98   \n",
      "\n",
      "  accidentmonth maintenancerailroadcode maintenancerailroadname  \\\n",
      "0            10                      CO                COLORADO   \n",
      "1            01                      CO                COLORADO   \n",
      "2            03                      CO                COLORADO   \n",
      "3            08                     MRL       Montana Rail Link   \n",
      "4            11                    BNSF    BNSF Railway Company   \n",
      "\n",
      "  maintenanceaccidentnumber  ... other_railroad_holding_company gxid  \\\n",
      "0                    AWV801  ...                            NaN  NaN   \n",
      "1                    AWV021  ...                            NaN  NaN   \n",
      "2                    ATC101  ...                            NaN  NaN   \n",
      "3                   2010066  ...                            NaN  NaN   \n",
      "4                 MS1198107  ...                            NaN  NaN   \n",
      "\n",
      "  specialstudy2 adjunct_code_1 adjunctname1 other_railroad_company_grouping  \\\n",
      "0           NaN            NaN          NaN                             NaN   \n",
      "1           NaN            NaN          NaN                             NaN   \n",
      "2           NaN            NaN          NaN                             NaN   \n",
      "3           NaN            NaN          NaN                             NaN   \n",
      "4           NaN            NaN          NaN                             NaN   \n",
      "\n",
      "  adjunct_code_2 adjunctname2 adjunct_code_3 adjunctname3  \n",
      "0            NaN          NaN            NaN          NaN  \n",
      "1            NaN          NaN            NaN          NaN  \n",
      "2            NaN          NaN            NaN          NaN  \n",
      "3            NaN          NaN            NaN          NaN  \n",
      "4            NaN          NaN            NaN          NaN  \n",
      "\n",
      "[5 rows x 163 columns]\n"
     ]
    }
   ],
   "source": [
    "# WARNING can take up to 6 minutes to download.\n",
    "# API URL\n",
    "url = \"https://data.transportation.gov/resource/85tf-25kj.json\"\n",
    "\n",
    "# Set the parameters\n",
    "limit = 1000  # The number of rows to fetch per request\n",
    "offset = 0    # The starting point for the next batch of rows\n",
    "all_data = [] # To store all the data\n",
    "\n",
    "while True:\n",
    "    # Create the query string with the limit and offset\n",
    "    query_url = f\"{url}?$limit={limit}&$offset={offset}\"\n",
    "    \n",
    "    # Make the API request\n",
    "    response = requests.get(query_url)\n",
    "    \n",
    "    # Check if the request was successful\n",
    "    if response.status_code == 200:\n",
    "        # Load the response into JSON format\n",
    "        data = response.json()\n",
    "        \n",
    "        # If no data is returned, we've reached the end\n",
    "        if not data:\n",
    "            break\n",
    "        \n",
    "        # Append the data to our list\n",
    "        all_data.extend(data)\n",
    "        \n",
    "        # Update the offset for the next batch of rows\n",
    "        offset += limit\n",
    "    else:\n",
    "        print(f\"Failed to retrieve data. Status code: {response.status_code}\")\n",
    "        break\n",
    "\n",
    "# Convert the list of records into a pandas DataFrame\n",
    "df = pd.DataFrame(all_data)\n",
    "\n",
    "# Display the number of rows fetched\n",
    "print(f\"Total records retrieved: {len(df)}\")\n",
    "\n",
    "# Display the first few rows of the DataFrame\n",
    "print(df.head())"
   ]
  },
  {
   "cell_type": "code",
   "execution_count": 9,
   "metadata": {},
   "outputs": [
    {
     "name": "stdout",
     "output_type": "stream",
     "text": [
      "['reportingrailroadcode', 'reportingrailroadname', 'year', 'accidentnumber', 'url', 'accidentyear', 'accidentmonth', 'maintenancerailroadcode', 'maintenancerailroadname', 'maintenanceaccidentnumber', 'maintenanceaccidentyear', 'maintenanceaccidentmonth', 'day', 'date', 'time', 'accident_type_code', 'accidenttype', 'hazmatcars', 'hazmatcarsdamaged', 'hazmatreleasedcars', 'personsevacuated', 'divisioncode', 'division', 'station', 'milepost', 'statecode', 'stateabbr', 'statename', 'countycode', 'countyname', 'district', 'temperature', 'visibility_code', 'visibility', 'weather_condition_code', 'weathercondition', 'track_type_code', 'tracktype', 'trackname', 'trackclass', 'trackdensity', 'train_direction_code', 'traindirection', 'equipment_type_code', 'equipmenttype', 'equipmentattended', 'trainnumber', 'trainspeed', 'recordedestimatedspeed', 'maximumspeed', 'grosstonnage', 'method_of_operation_code', 'firstcarinitials', 'firstcarnumber', 'firstcarposition', 'firstcarloaded', 'passengerstransported', 'headendlocomotives', 'midtrainmanuallocomotives', 'midtrainremotelocomotives', 'rearendmanuallocomotives', 'rearendremotelocomotives', 'derailedheadendlocomotives', 'derailedmidtrainmanuallo', 'derailedmidtrainremotelo', 'derailedrearendmanualloc', 'derailedrearendremoteloc', 'loadedfreightcars', 'loadedpassengercars', 'emptyfreightcars', 'emptypassengercars', 'cabooses', 'derailedloadedfreightcars', 'derailedloadedpassengercars', 'derailedemptyfreightcars', 'derailedemptypassengercars', 'derailedcabooses', 'equipmentdamagecost', 'trackdamagecost', 'totaldamagecost', 'primaryaccidentcausecode', 'primaryaccidentcause', 'accidentcausecode', 'accidentcause', 'engineersonduty', 'firemenonduty', 'conductorsonduty', 'brakemenonduty', 'hoursengineersonduty', 'minutesengineersonduty', 'hoursconductorsonduty', 'minutesconductorsonduty', 'railroademployeeskilled', 'railroademployeesinjured', 'passengerskilled', 'passengersinjured', 'otherskilled', 'othersinjured', 'reportingrailroadfatalitiesfor55a', 'reportingrailroadinjuriesfor55a', 'totalpersonskilled', 'totalpersonsinjured', 'totalkilledform54', 'totalinjuredform54', 'narrative', 'jointtracktype', 'jointtrackclass', 'classcode', 'class', 'jointcd', 'incidentkey', 'reportkey', 'reporting_parent_railroad_code', 'reporting_parent_railroad_name', 'reporting_railroad_holding_company', 'maintenance_parent_railroad_code', 'maintenance_parent_railroad_name', 'maintenance_railroad_holding_company', 'remote_control_locomotive_code', 'remotecontrollocomotive', 'causingcarinitials', 'causingcarnumber', 'causingcarposition', 'causingcarloaded', 'positivealcoholtests', 'positivedrugtests', 'latitude', 'longitude', 'reporting_railroad_company_grouping', 'reporting_railroad_class', 'reporting_railroad_smt_grouping', 'maintenance_railroad_company_grouping', 'maintenance_railroad_class', 'maintenance_railroad_smt_grouping', 'location', 'contributingaccidentcausecode', 'contributingaccidentcause', 'subdivision', 'signalization_code', 'signalization', 'methodofoperation', 'specialstudy1', ':@computed_region_8fe2_rd7y', ':@computed_region_m2nu_4dib', 'otherrailroadcode', 'otherrailroadname', 'otheraccidentnumber', 'otheraccidentyear', 'otheraccidentmonth', 'other_railroad_class', 'other_railroad_smt_grouping', 'other_parent_railroad_code', 'other_parent_railroad_name', 'other_railroad_holding_company', 'gxid', 'specialstudy2', 'adjunct_code_1', 'adjunctname1', 'other_railroad_company_grouping', 'adjunct_code_2', 'adjunctname2', 'adjunct_code_3', 'adjunctname3']\n"
     ]
    }
   ],
   "source": [
    "# Print all features\n",
    "with pd.option_context('display.max_columns', None):  # Adjust pandas to temporarily display all features\n",
    "    features = list(df.columns)\n",
    "    print(features)"
   ]
  },
  {
   "cell_type": "code",
   "execution_count": 25,
   "metadata": {},
   "outputs": [
    {
     "name": "stdout",
     "output_type": "stream",
     "text": [
      "   reportingrailroadcode reportingrailroadname  year accidentnumber  \\\n",
      "2                     CO              COLORADO  1976         ATC101   \n",
      "9                    CSX    CSX Transportation  1998      049822003   \n",
      "10                  BNSF  BNSF Railway Company  1998      DK0498110   \n",
      "11                   CSX    CSX Transportation  1996      119607001   \n",
      "12                    CR               Conrail  1996          80003   \n",
      "\n",
      "                                                  url accidentyear  \\\n",
      "2   {'url': 'https://safetydata.fra.dot.gov/Office...           76   \n",
      "9   {'url': 'https://safetydata.fra.dot.gov/Office...           98   \n",
      "10  {'url': 'https://safetydata.fra.dot.gov/Office...           98   \n",
      "11  {'url': 'https://safetydata.fra.dot.gov/Office...           96   \n",
      "12  {'url': 'https://safetydata.fra.dot.gov/Office...           96   \n",
      "\n",
      "   accidentmonth maintenancerailroadcode maintenancerailroadname  \\\n",
      "2             03                      CO                COLORADO   \n",
      "9             04                     CSX      CSX Transportation   \n",
      "10            04                    BNSF    BNSF Railway Company   \n",
      "11            11                     CSX      CSX Transportation   \n",
      "12            11                      CR                 Conrail   \n",
      "\n",
      "   maintenanceaccidentnumber  ... other_railroad_holding_company gxid  \\\n",
      "2                     ATC101  ...                            NaN  NaN   \n",
      "9                  049822003  ...                            NaN  NaN   \n",
      "10                 DK0498110  ...                            NaN  NaN   \n",
      "11                 119607001  ...                            NaN  NaN   \n",
      "12                     80003  ...                            NaN  NaN   \n",
      "\n",
      "   specialstudy2 adjunct_code_1 adjunctname1 other_railroad_company_grouping  \\\n",
      "2            NaN            NaN          NaN                             NaN   \n",
      "9            NaN            NaN          NaN                             NaN   \n",
      "10           NaN            NaN          NaN                             NaN   \n",
      "11           NaN            NaN          NaN                             NaN   \n",
      "12           NaN            NaN          NaN                             NaN   \n",
      "\n",
      "   adjunct_code_2 adjunctname2 adjunct_code_3 adjunctname3  \n",
      "2             NaN          NaN            NaN          NaN  \n",
      "9             NaN          NaN            NaN          NaN  \n",
      "10            NaN          NaN            NaN          NaN  \n",
      "11            NaN          NaN            NaN          NaN  \n",
      "12            NaN          NaN            NaN          NaN  \n",
      "\n",
      "[5 rows x 163 columns]\n"
     ]
    }
   ],
   "source": [
    "# Create Track Accident DataFrame to filter only incidents with an identified \"primaryaccidentcause\" of a track type.\n",
    "from primaryAccidentCodesLibrary import primary_accident_cause_codes\n",
    "\n",
    "# Get a list of codes from the dictionary\n",
    "codes_list = list(primary_accident_cause_codes.keys())\n",
    "\n",
    "# Create Track Accident DataFrame to filter only incidents with an identified \"primaryaccidentcause\"\n",
    "track_accidents_df = df[df['primaryaccidentcausecode'].isin(codes_list)].copy()\n",
    "\n",
    "# Display the first few rows of the new DataFrame\n",
    "print(track_accidents_df.head())"
   ]
  },
  {
   "cell_type": "code",
   "execution_count": 26,
   "metadata": {},
   "outputs": [
    {
     "data": {
      "text/plain": [
       "(91986, 163)"
      ]
     },
     "execution_count": 26,
     "metadata": {},
     "output_type": "execute_result"
    }
   ],
   "source": [
    "track_accidents_df.shape"
   ]
  }
 ],
 "metadata": {
  "kernelspec": {
   "display_name": "Python 3",
   "language": "python",
   "name": "python3"
  },
  "language_info": {
   "codemirror_mode": {
    "name": "ipython",
    "version": 3
   },
   "file_extension": ".py",
   "mimetype": "text/x-python",
   "name": "python",
   "nbconvert_exporter": "python",
   "pygments_lexer": "ipython3",
   "version": "3.12.2"
  }
 },
 "nbformat": 4,
 "nbformat_minor": 2
}
