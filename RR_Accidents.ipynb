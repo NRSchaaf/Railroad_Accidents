{
 "cells": [
  {
   "cell_type": "markdown",
   "metadata": {},
   "source": [
    "# Forecasting Railroad Track Failures Due to Extreme Temperature Flucuations"
   ]
  },
  {
   "cell_type": "markdown",
   "metadata": {},
   "source": [
    "## Project Definition & Objectives"
   ]
  },
  {
   "cell_type": "markdown",
   "metadata": {},
   "source": [
    "### Objective/Thesis\n",
    "<p>The objective of this project is to develop a machine learning model that helps to predict potential derailment locations specifically caused by track failures due to the result of extreme temperatures fluctuations. By integrating national weather forecasts with historical derailment and track data, the model will identify high-risk areas where derailments are most likely to occur based off the weather forecast. This analysis aims to enable predictive maintenance strategies, focusing on increasing track inspections and repairs during and immediately after periods of extreme weather conditions to mitigate derailment risks.</p>"
   ]
  },
  {
   "cell_type": "markdown",
   "metadata": {},
   "source": [
    "### Scope\n",
    "<ul>\n",
    "    <li><strong>Data Collection</strong>: Gathering historical data on derailments, environmental factors (temperature fluctuations), track conditions, and weather forecasts.</li>\n",
    "    <li><strong>Model Development</strong>: Building and validating a machine learning model capable of predicting derailment locations based on extreme weather patterns. [Possible options: Logistic Regression, Decision Trees, Random Forest, Gradient Boosting, Neural Networks.]</li>\n",
    "    <li><strong>Geospatial Analysis</strong>: Applying geospatial methods to identify high-risk regions for derailments due to wide gauge.</li>\n",
    "    <li><strong>Real-Time Forecast Integration</strong>: Integrating national weather forecasts to provide real-time predictions of potential derailment locations.</li>\n",
    "    <li><strong>Actionable Insights</strong>: Recommending areas for increased track maintenance and inspection based on predictions, with a focus on preventing accidents caused by wide gauge in extreme weather conditions.</li>\n",
    "</ul>"
   ]
  },
  {
   "cell_type": "markdown",
   "metadata": {},
   "source": [
    "### Significance\n",
    "<p>Track failures are the leading cause of non-reportable derailments, with over 12,000 reportable events recorded, according to the Federal Railroad Administration (FRA). As climate change contributes to increasingly unpredictable and extreme weather patterns, the risk of derailments due to wide gauge is likely to rise. This project is significant because it will provide a data-driven approach to mitigating these risks. By predicting where derailments are likely to occur, rail companies can proactively focus maintenance and inspection efforts, reducing the likelihood of accidents, protecting human lives, and preserving infrastructure.</p>"
   ]
  },
  {
   "cell_type": "markdown",
   "metadata": {},
   "source": [
    "## Data Preprocessing"
   ]
  },
  {
   "cell_type": "markdown",
   "metadata": {},
   "source": [
    "### Import"
   ]
  },
  {
   "cell_type": "code",
   "execution_count": 2,
   "metadata": {},
   "outputs": [],
   "source": [
    "import requests\n",
    "import pandas as pd\n",
    "from datetime import datetime, timedelta"
   ]
  },
  {
   "cell_type": "markdown",
   "metadata": {},
   "source": [
    "#### Railroad Accident Data from Federal Railroad Administration (FRA)"
   ]
  },
  {
   "cell_type": "code",
   "execution_count": 3,
   "metadata": {},
   "outputs": [],
   "source": [
    "# WARNING can take up to 6 minutes to download.\n",
    "# API URL\n",
    "url = \"https://data.transportation.gov/resource/85tf-25kj.json\"\n",
    "\n",
    "# Set the parameters\n",
    "limit = 1000  # The number of rows to fetch per request\n",
    "offset = 0    # The starting point for the next batch of rows\n",
    "all_data = [] # To store all the data\n",
    "\n",
    "while True:\n",
    "    # Create the query string with the limit and offset\n",
    "    query_url = f\"{url}?$limit={limit}&$offset={offset}\"\n",
    "    \n",
    "    # Make the API request\n",
    "    response = requests.get(query_url)\n",
    "    \n",
    "    # Check if the request was successful\n",
    "    if response.status_code == 200:\n",
    "        # Load the response into JSON format\n",
    "        data = response.json()\n",
    "        \n",
    "        # If no data is returned, we've reached the end\n",
    "        if not data:\n",
    "            break\n",
    "        \n",
    "        # Append the data to our list\n",
    "        all_data.extend(data)\n",
    "        \n",
    "        # Update the offset for the next batch of rows\n",
    "        offset += limit\n",
    "    else:\n",
    "        print(f\"Failed to retrieve data. Status code: {response.status_code}\")\n",
    "        break\n",
    "\n",
    "# Convert the list of records into a pandas DataFrame\n",
    "df = pd.DataFrame(all_data)\n",
    "\n",
    "# Display the number of rows fetched\n",
    "#print(f\"Total records retrieved: {len(df)}\")\n",
    "\n",
    "# Display the first few rows of the DataFrame\n",
    "#print(df.head())"
   ]
  },
  {
   "cell_type": "code",
   "execution_count": 4,
   "metadata": {},
   "outputs": [
    {
     "name": "stdout",
     "output_type": "stream",
     "text": [
      "['reportingrailroadcode', 'reportingrailroadname', 'year', 'accidentnumber', 'url', 'accidentyear', 'accidentmonth', 'maintenancerailroadcode', 'maintenancerailroadname', 'maintenanceaccidentnumber', 'maintenanceaccidentyear', 'maintenanceaccidentmonth', 'day', 'date', 'time', 'accident_type_code', 'accidenttype', 'hazmatcars', 'hazmatcarsdamaged', 'hazmatreleasedcars', 'personsevacuated', 'divisioncode', 'division', 'station', 'milepost', 'statecode', 'stateabbr', 'statename', 'countycode', 'countyname', 'district', 'temperature', 'visibility_code', 'visibility', 'weather_condition_code', 'weathercondition', 'track_type_code', 'tracktype', 'trackname', 'trackclass', 'trackdensity', 'train_direction_code', 'traindirection', 'equipment_type_code', 'equipmenttype', 'equipmentattended', 'trainnumber', 'trainspeed', 'recordedestimatedspeed', 'maximumspeed', 'grosstonnage', 'method_of_operation_code', 'firstcarinitials', 'firstcarnumber', 'firstcarposition', 'firstcarloaded', 'passengerstransported', 'headendlocomotives', 'midtrainmanuallocomotives', 'midtrainremotelocomotives', 'rearendmanuallocomotives', 'rearendremotelocomotives', 'derailedheadendlocomotives', 'derailedmidtrainmanuallo', 'derailedmidtrainremotelo', 'derailedrearendmanualloc', 'derailedrearendremoteloc', 'loadedfreightcars', 'loadedpassengercars', 'emptyfreightcars', 'emptypassengercars', 'cabooses', 'derailedloadedfreightcars', 'derailedloadedpassengercars', 'derailedemptyfreightcars', 'derailedemptypassengercars', 'derailedcabooses', 'equipmentdamagecost', 'trackdamagecost', 'totaldamagecost', 'primaryaccidentcausecode', 'primaryaccidentcause', 'accidentcausecode', 'accidentcause', 'engineersonduty', 'firemenonduty', 'conductorsonduty', 'brakemenonduty', 'hoursengineersonduty', 'minutesengineersonduty', 'hoursconductorsonduty', 'minutesconductorsonduty', 'railroademployeeskilled', 'railroademployeesinjured', 'passengerskilled', 'passengersinjured', 'otherskilled', 'othersinjured', 'reportingrailroadfatalitiesfor55a', 'reportingrailroadinjuriesfor55a', 'totalpersonskilled', 'totalpersonsinjured', 'totalkilledform54', 'totalinjuredform54', 'narrative', 'jointtracktype', 'jointtrackclass', 'classcode', 'class', 'jointcd', 'incidentkey', 'reportkey', 'reporting_railroad_class', 'reporting_parent_railroad_code', 'reporting_parent_railroad_name', 'reporting_railroad_holding_company', 'maintenance_railroad_class', 'maintenance_parent_railroad_code', 'maintenance_parent_railroad_name', 'maintenance_railroad_holding_company', 'remote_control_locomotive_code', 'remotecontrollocomotive', 'causingcarinitials', 'causingcarnumber', 'causingcarposition', 'causingcarloaded', 'positivealcoholtests', 'positivedrugtests', 'latitude', 'longitude', 'reporting_railroad_company_grouping', 'reporting_railroad_smt_grouping', 'maintenance_railroad_company_grouping', 'maintenance_railroad_smt_grouping', 'location', 'subdivision', 'signalization_code', 'signalization', 'methodofoperation', 'specialstudy1', ':@computed_region_8fe2_rd7y', ':@computed_region_m2nu_4dib', 'adjunct_code_1', 'adjunctname1', 'contributingaccidentcausecode', 'contributingaccidentcause', 'gxid', 'otherrailroadcode', 'otherrailroadname', 'otheraccidentnumber', 'otheraccidentyear', 'otheraccidentmonth', 'other_parent_railroad_code', 'other_parent_railroad_name', 'other_railroad_holding_company', 'other_railroad_class', 'other_railroad_smt_grouping', 'specialstudy2', 'adjunct_code_2', 'adjunctname2', 'other_railroad_company_grouping', 'adjunct_code_3', 'adjunctname3']\n"
     ]
    }
   ],
   "source": [
    "# Print all features\n",
    "with pd.option_context('display.max_columns', None):  # Adjust pandas to temporarily display all features\n",
    "    features = list(df.columns)\n",
    "    print(features)"
   ]
  },
  {
   "cell_type": "markdown",
   "metadata": {},
   "source": [
    "##### Create Analysis Dataframe of RR incidents with a Track-Related Primary Accident Cause"
   ]
  },
  {
   "cell_type": "code",
   "execution_count": 5,
   "metadata": {},
   "outputs": [],
   "source": [
    "# Create a Track Accident DataFrame to filter only incidents with an identified \"primaryaccidentcause\" of a track type.\n",
    "from primaryAccidentCodesLibrary import primary_accident_cause_codes\n",
    "\n",
    "# Get a list of codes from the dictionary\n",
    "codes_list = list(primary_accident_cause_codes.keys())\n",
    "\n",
    "# Create Track Accident DataFrame to filter only incidents with an identified \"primaryaccidentcause\"\n",
    "track_accidents_df = df[df['primaryaccidentcausecode'].isin(codes_list)].copy()\n",
    "\n",
    "# Relevant features to include in the analysis based on domain knowledge.\n",
    "features_to_analyze = ['reportingrailroadcode', 'accidentnumber', 'date', 'time', 'accidenttype', 'hazmatreleasedcars', 'station', 'stateabbr', 'temperature', 'visibility_code', 'visibility', 'weathercondition', 'tracktype', 'equipmenttype', 'trainspeed', 'equipmentdamagecost', 'trackdamagecost', 'totaldamagecost', 'primaryaccidentcausecode', 'latitude', 'longitude']\n",
    "\n",
    "# Drop all columns except the selected ones\n",
    "track_accidents_df = track_accidents_df[features_to_analyze]\n",
    "\n",
    "# Display the first few rows of the new DataFrame\n",
    "#track_accidents_df.head()"
   ]
  },
  {
   "cell_type": "code",
   "execution_count": 6,
   "metadata": {},
   "outputs": [
    {
     "name": "stdout",
     "output_type": "stream",
     "text": [
      "The filtered incidents occurred between 2014-10-19 and 2024-07-30.\n"
     ]
    }
   ],
   "source": [
    "# Check the date range of incidents in our query.\n",
    "\n",
    "# Drop rows where 'accidenttype' or 'visibility' have missing values\n",
    "#track_accidents_df.dropna(subset=['accidenttype', 'visibility'], inplace=True)\n",
    "\n",
    "# Ensure the 'date' column is in datetime format\n",
    "track_accidents_df['date'] = pd.to_datetime(track_accidents_df['date'])\n",
    "\n",
    "# Define the date 10 years ago from today\n",
    "ten_years_ago = datetime.today() - timedelta(days=365*10)\n",
    "\n",
    "# Filter the DataFrame to only include incidents from the past 10 years\n",
    "track_accidents_df = track_accidents_df[track_accidents_df['date'] >= ten_years_ago]\n",
    "\n",
    "# Check the new date range\n",
    "date_min = track_accidents_df['date'].min()\n",
    "date_max = track_accidents_df['date'].max()\n",
    "\n",
    "print(f\"The filtered incidents occurred between {date_min.date()} and {date_max.date()}.\")"
   ]
  },
  {
   "cell_type": "code",
   "execution_count": 7,
   "metadata": {},
   "outputs": [
    {
     "name": "stdout",
     "output_type": "stream",
     "text": [
      "<class 'pandas.core.frame.DataFrame'>\n",
      "Index: 4636 entries, 119 to 220537\n",
      "Data columns (total 21 columns):\n",
      " #   Column                    Non-Null Count  Dtype         \n",
      "---  ------                    --------------  -----         \n",
      " 0   reportingrailroadcode     4636 non-null   object        \n",
      " 1   accidentnumber            4636 non-null   object        \n",
      " 2   date                      4636 non-null   datetime64[ns]\n",
      " 3   time                      4636 non-null   object        \n",
      " 4   accidenttype              4636 non-null   object        \n",
      " 5   hazmatreleasedcars        4636 non-null   object        \n",
      " 6   station                   4636 non-null   object        \n",
      " 7   stateabbr                 4636 non-null   object        \n",
      " 8   temperature               4636 non-null   object        \n",
      " 9   visibility_code           4636 non-null   object        \n",
      " 10  visibility                4636 non-null   object        \n",
      " 11  weathercondition          4636 non-null   object        \n",
      " 12  tracktype                 4636 non-null   object        \n",
      " 13  equipmenttype             4341 non-null   object        \n",
      " 14  trainspeed                4636 non-null   object        \n",
      " 15  equipmentdamagecost       4636 non-null   object        \n",
      " 16  trackdamagecost           4636 non-null   object        \n",
      " 17  totaldamagecost           4636 non-null   object        \n",
      " 18  primaryaccidentcausecode  4636 non-null   object        \n",
      " 19  latitude                  4636 non-null   object        \n",
      " 20  longitude                 4636 non-null   object        \n",
      "dtypes: datetime64[ns](1), object(20)\n",
      "memory usage: 796.8+ KB\n"
     ]
    }
   ],
   "source": [
    "track_accidents_df.info()"
   ]
  },
  {
   "cell_type": "code",
   "execution_count": 8,
   "metadata": {},
   "outputs": [
    {
     "data": {
      "text/plain": [
       "reportingrailroadcode         0\n",
       "accidentnumber                0\n",
       "date                          0\n",
       "time                          0\n",
       "accidenttype                  0\n",
       "hazmatreleasedcars            0\n",
       "station                       0\n",
       "stateabbr                     0\n",
       "temperature                   0\n",
       "visibility_code               0\n",
       "visibility                    0\n",
       "weathercondition              0\n",
       "tracktype                     0\n",
       "equipmenttype               295\n",
       "trainspeed                    0\n",
       "equipmentdamagecost           0\n",
       "trackdamagecost               0\n",
       "totaldamagecost               0\n",
       "primaryaccidentcausecode      0\n",
       "latitude                      0\n",
       "longitude                     0\n",
       "dtype: int64"
      ]
     },
     "execution_count": 8,
     "metadata": {},
     "output_type": "execute_result"
    }
   ],
   "source": [
    "null_counts = track_accidents_df.isnull().sum()\n",
    "null_counts"
   ]
  },
  {
   "cell_type": "code",
   "execution_count": 11,
   "metadata": {},
   "outputs": [
    {
     "data": {
      "text/html": [
       "<div>\n",
       "<style scoped>\n",
       "    .dataframe tbody tr th:only-of-type {\n",
       "        vertical-align: middle;\n",
       "    }\n",
       "\n",
       "    .dataframe tbody tr th {\n",
       "        vertical-align: top;\n",
       "    }\n",
       "\n",
       "    .dataframe thead th {\n",
       "        text-align: right;\n",
       "    }\n",
       "</style>\n",
       "<table border=\"1\" class=\"dataframe\">\n",
       "  <thead>\n",
       "    <tr style=\"text-align: right;\">\n",
       "      <th></th>\n",
       "      <th>count</th>\n",
       "      <th>mean</th>\n",
       "      <th>min</th>\n",
       "      <th>25%</th>\n",
       "      <th>50%</th>\n",
       "      <th>75%</th>\n",
       "      <th>max</th>\n",
       "    </tr>\n",
       "  </thead>\n",
       "  <tbody>\n",
       "    <tr>\n",
       "      <th>date</th>\n",
       "      <td>4636</td>\n",
       "      <td>2019-05-27 11:28:19.050905856</td>\n",
       "      <td>2014-10-19 00:00:00</td>\n",
       "      <td>2016-12-23 18:00:00</td>\n",
       "      <td>2019-03-12 00:00:00</td>\n",
       "      <td>2021-10-19 06:00:00</td>\n",
       "      <td>2024-07-30 00:00:00</td>\n",
       "    </tr>\n",
       "  </tbody>\n",
       "</table>\n",
       "</div>"
      ],
      "text/plain": [
       "     count                           mean                  min  \\\n",
       "date  4636  2019-05-27 11:28:19.050905856  2014-10-19 00:00:00   \n",
       "\n",
       "                      25%                  50%                  75%  \\\n",
       "date  2016-12-23 18:00:00  2019-03-12 00:00:00  2021-10-19 06:00:00   \n",
       "\n",
       "                      max  \n",
       "date  2024-07-30 00:00:00  "
      ]
     },
     "execution_count": 11,
     "metadata": {},
     "output_type": "execute_result"
    }
   ],
   "source": [
    "track_accidents_df.describe().T"
   ]
  },
  {
   "cell_type": "code",
   "execution_count": 12,
   "metadata": {},
   "outputs": [],
   "source": [
    "# Export the DataFrame to a CSV file\n",
    "track_accidents_df.to_csv('track_accidents_last_10_years.csv', index=False)"
   ]
  },
  {
   "cell_type": "markdown",
   "metadata": {},
   "source": [
    "#### Weather Data from..."
   ]
  },
  {
   "cell_type": "code",
   "execution_count": 20,
   "metadata": {},
   "outputs": [],
   "source": [
    "# Extract GPS location and Date from the Track Accident Dataframe\n",
    "#track_accidents_df['incident_date'] = pd.to_datetime(track_accidents_df['incident_date']) "
   ]
  }
 ],
 "metadata": {
  "kernelspec": {
   "display_name": "Python 3",
   "language": "python",
   "name": "python3"
  },
  "language_info": {
   "codemirror_mode": {
    "name": "ipython",
    "version": 3
   },
   "file_extension": ".py",
   "mimetype": "text/x-python",
   "name": "python",
   "nbconvert_exporter": "python",
   "pygments_lexer": "ipython3",
   "version": "3.13.0"
  }
 },
 "nbformat": 4,
 "nbformat_minor": 2
}
